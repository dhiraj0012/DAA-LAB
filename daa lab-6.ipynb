{
 "cells": [
  {
   "cell_type": "code",
   "execution_count": 1,
   "id": "fe3f6d1f",
   "metadata": {},
   "outputs": [
    {
     "name": "stdout",
     "output_type": "stream",
     "text": [
      "Row 1: 1 ones\n",
      "Row 2: 3 ones\n",
      "Row 3: 0 ones\n",
      "Row 4: 4 ones\n",
      "\n",
      "Row with the greatest number of ones is Row 4 with 4 ones.\n"
     ]
    }
   ],
   "source": [
    "def FindRowWithGreatest1(Matrix):\n",
    "    max_ones_count = 0\n",
    "    row_with_max_ones = -1\n",
    "\n",
    "    for i in range(len(Matrix)):\n",
    "        noofOne = 0\n",
    "        for j in range(len(Matrix[i])):\n",
    "            if Matrix[i][j] == 1:\n",
    "                noofOne += 1\n",
    "\n",
    "        print(f\"Row {i + 1}: {noofOne} ones\")\n",
    "\n",
    "        if noofOne > max_ones_count:\n",
    "            max_ones_count = noofOne\n",
    "            row_with_max_ones = i + 1\n",
    "\n",
    "    print(f\"\\nRow with the greatest number of ones is Row {row_with_max_ones} with {max_ones_count} ones.\")\n",
    "\n",
    "Matrix = [[0, 0, 0, 1], [1, 1, 0, 1], [0, 0, 0, 0], [1, 1, 1, 1]]\n",
    "FindRowWithGreatest1(Matrix)\n"
   ]
  },
  {
   "cell_type": "code",
   "execution_count": 2,
   "id": "5134c322",
   "metadata": {},
   "outputs": [
    {
     "name": "stdout",
     "output_type": "stream",
     "text": [
      "No of flips required: 2\n"
     ]
    }
   ],
   "source": [
    "def NoofFlips(Matrix):\n",
    "    flips = 0\n",
    "    \n",
    "    # Flip 0s to 1s in the first row\n",
    "    for i in range(len(Matrix)):\n",
    "        if Matrix[0][i] == 0:\n",
    "            Matrix[0][i] = 1\n",
    "            flips += 1\n",
    "    \n",
    "    # Flip 0s to 1s in the first column\n",
    "    for i in range(len(Matrix)):\n",
    "        if Matrix[i][0] == 0:\n",
    "            Matrix[i][0] = 1\n",
    "            flips += 1\n",
    "    \n",
    "    # Flip 0s to 1s in the last column\n",
    "    for i in range(len(Matrix)):\n",
    "        if Matrix[i][-1] == 0:\n",
    "            Matrix[i][-1] = 1\n",
    "            flips += 1\n",
    "    \n",
    "    # Flip 0s to 1s in the last row\n",
    "    for i in range(len(Matrix[0])):\n",
    "        if Matrix[-1][i] == 0:\n",
    "            Matrix[-1][i] = 1\n",
    "            flips += 1\n",
    "    \n",
    "    return flips\n",
    "\n",
    "Matrix = [[0, 1, 1, 1], [1, 1, 0, 1], [1, 1, 0, 1]]\n",
    "print(\"No of flips required:\", NoofFlips(Matrix))\n"
   ]
  },
  {
   "cell_type": "code",
   "execution_count": null,
   "id": "6784198e",
   "metadata": {},
   "outputs": [],
   "source": []
  }
 ],
 "metadata": {
  "kernelspec": {
   "display_name": "Python 3 (ipykernel)",
   "language": "python",
   "name": "python3"
  },
  "language_info": {
   "codemirror_mode": {
    "name": "ipython",
    "version": 3
   },
   "file_extension": ".py",
   "mimetype": "text/x-python",
   "name": "python",
   "nbconvert_exporter": "python",
   "pygments_lexer": "ipython3",
   "version": "3.9.12"
  }
 },
 "nbformat": 4,
 "nbformat_minor": 5
}
